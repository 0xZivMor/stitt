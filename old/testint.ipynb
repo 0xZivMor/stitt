{
 "cells": [
  {
   "cell_type": "code",
   "execution_count": 5,
   "metadata": {},
   "outputs": [
    {
     "name": "stdout",
     "output_type": "stream",
     "text": [
      "The autoreload extension is already loaded. To reload it, use:\n",
      "  %reload_ext autoreload\n"
     ]
    }
   ],
   "source": [
    "%load_ext autoreload\n",
    "%autoreload 2"
   ]
  },
  {
   "cell_type": "code",
   "execution_count": 6,
   "metadata": {},
   "outputs": [],
   "source": [
    "from ogb.graphproppred import PygGraphPropPredDataset, Evaluator\n",
    "import numpy as np\n",
    "import torch\n",
    "import torch.nn as nn\n",
    "\n",
    "from torch.utils.data import DataLoader\n",
    "\n",
    "from stitt import Stitt, StittGraphClassifier\n",
    "from utils import create_spectral_dataset, Trainer, collate_spectral_dataset_no_eigenvects\n",
    "\n",
    "from transformers import get_linear_schedule_with_warmup\n",
    "from tqdm import tqdm"
   ]
  },
  {
   "cell_type": "code",
   "execution_count": 7,
   "metadata": {},
   "outputs": [],
   "source": [
    "dataset = PygGraphPropPredDataset(name='ogbg-molhiv')\n",
    "idx = dataset.get_idx_split()\n",
    "max_graph = max([graph.num_nodes for graph in dataset])"
   ]
  },
  {
   "cell_type": "code",
   "execution_count": 8,
   "metadata": {},
   "outputs": [
    {
     "name": "stderr",
     "output_type": "stream",
     "text": [
      "Creating Spectral Dataset:   0%|          | 0/32901 [00:00<?, ?it/s]"
     ]
    },
    {
     "name": "stderr",
     "output_type": "stream",
     "text": [
      "Creating Spectral Dataset: 100%|██████████| 32901/32901 [06:25<00:00, 85.37it/s] \n"
     ]
    }
   ],
   "source": [
    "train_spect_ds = create_spectral_dataset(dataset[idx[\"train\"]], upsample=[15, 40])"
   ]
  },
  {
   "cell_type": "code",
   "execution_count": 9,
   "metadata": {},
   "outputs": [],
   "source": [
    "batch_size = 8\n",
    "n_heads = 8\n",
    "n_layers = 4\n",
    "d_input = 256\n",
    "d_attn = 256\n",
    "d_ffn = 128\n",
    "n_epochs = 50\n",
    "r_warmup = 0.1\n",
    "n_classes = 2\n",
    "lr = 5e-5\n",
    "device = torch.device(\"cuda\")"
   ]
  },
  {
   "cell_type": "code",
   "execution_count": 10,
   "metadata": {},
   "outputs": [],
   "source": [
    "model = StittGraphClassifier(d_input=d_input, d_attn=d_attn, d_ffn=d_ffn,\n",
    "                             max_graph=max_graph, n_heads=n_heads, n_layers=n_layers, n_classes=n_classes,\n",
    "                             device=device)"
   ]
  },
  {
   "cell_type": "code",
   "execution_count": 11,
   "metadata": {},
   "outputs": [],
   "source": [
    "train_loader = DataLoader(train_spect_ds, batch_size=batch_size, shuffle=True,collate_fn=collate_spectral_dataset_no_eigenvects)\n",
    "criterion = nn.CrossEntropyLoss()\n",
    "optimizer = torch.optim.AdamW(model.parameters(), lr=lr, weight_decay=0)\n",
    "\n",
    "training_steps = n_epochs * len(train_spect_ds)\n",
    "scheduler = get_linear_schedule_with_warmup(optimizer, num_warmup_steps= r_warmup * training_steps, num_training_steps=training_steps)"
   ]
  },
  {
   "cell_type": "code",
   "execution_count": 12,
   "metadata": {},
   "outputs": [],
   "source": [
    "trainer = Trainer(model.to(device), optimizer=optimizer, scheduler=scheduler, criterion=criterion, device=device)"
   ]
  },
  {
   "cell_type": "code",
   "execution_count": 15,
   "metadata": {},
   "outputs": [
    {
     "name": "stdout",
     "output_type": "stream",
     "text": [
      "Epoch 1 completed\n",
      "Epoch 2 completed\n",
      "Epoch 3 completed\n",
      "Epoch 4 completed\n",
      "Epoch 5 completed\n",
      "Epoch 6 completed\n",
      "Epoch 7 completed\n",
      "Epoch 8 completed\n",
      "Epoch 9 completed\n"
     ]
    }
   ],
   "source": [
    "trainer.train(train_loader, n_epochs)"
   ]
  },
  {
   "cell_type": "code",
   "execution_count": null,
   "metadata": {},
   "outputs": [
    {
     "name": "stderr",
     "output_type": "stream",
     "text": [
      "Creating Spectral Dataset:   0%|          | 0/4113 [00:00<?, ?it/s]"
     ]
    },
    {
     "name": "stderr",
     "output_type": "stream",
     "text": [
      "Creating Spectral Dataset: 100%|██████████| 4113/4113 [00:02<00:00, 1537.62it/s]\n"
     ]
    }
   ],
   "source": [
    "val_spect_ds = create_spectral_dataset(dataset[idx[\"valid\"]])\n",
    "val_loader = train_loader = DataLoader(\n",
    "    train_spect_ds,\n",
    "    batch_size=batch_size * 4,\n",
    "    collate_fn=collate_spectral_dataset_no_eigenvects,\n",
    ")"
   ]
  },
  {
   "cell_type": "code",
   "execution_count": null,
   "metadata": {},
   "outputs": [
    {
     "name": "stderr",
     "output_type": "stream",
     "text": [
      "  0%|          | 0/4097 [00:00<?, ?it/s]"
     ]
    },
    {
     "name": "stderr",
     "output_type": "stream",
     "text": [
      "100%|██████████| 4097/4097 [05:26<00:00, 12.56it/s]\n"
     ]
    }
   ],
   "source": [
    "evaluator = Evaluator(name='ogbg-molhiv')\n",
    "y_true = []\n",
    "y_pred = []\n",
    "\n",
    "with torch.no_grad():\n",
    "    for batch in tqdm(val_loader):\n",
    "        features, eigvects, mask, labels = batch\n",
    "        features = features.to(device)\n",
    "        eigvects = eigvects.to(device)\n",
    "        mask = mask.to(device)\n",
    "        labels = labels.to(device)\n",
    "\n",
    "        outputs = model(features, eigvects, mask)\n",
    "        predicted = torch.argmax(outputs, dim=1)\n",
    "\n",
    "        y_true.append(labels)\n",
    "        y_pred.append(predicted)\n",
    "\n",
    "y_true = torch.concat(y_true).unsqueeze(1)\n",
    "y_pred = torch.concat(y_pred).unsqueeze(1)"
   ]
  },
  {
   "cell_type": "code",
   "execution_count": null,
   "metadata": {},
   "outputs": [
    {
     "name": "stdout",
     "output_type": "stream",
     "text": [
      "ROC-AUC: 0.891\n"
     ]
    }
   ],
   "source": [
    "\n",
    "roc_auc = evaluator.eval({\n",
    "    'y_true': y_true,\n",
    "    'y_pred': y_pred\n",
    "})['rocauc']\n",
    "\n",
    "print(f\"ROC-AUC: {roc_auc:.3f}\")"
   ]
  },
  {
   "cell_type": "code",
   "execution_count": null,
   "metadata": {},
   "outputs": [],
   "source": [
    "torch.save(model, \"stitt_molhiv_1.pt\")"
   ]
  }
 ],
 "metadata": {
  "kernelspec": {
   "display_name": "Python 3 (ipykernel)",
   "language": "python",
   "name": "python3"
  },
  "language_info": {
   "codemirror_mode": {
    "name": "ipython",
    "version": 3
   },
   "file_extension": ".py",
   "mimetype": "text/x-python",
   "name": "python",
   "nbconvert_exporter": "python",
   "pygments_lexer": "ipython3",
   "version": "3.12.1"
  }
 },
 "nbformat": 4,
 "nbformat_minor": 2
}
